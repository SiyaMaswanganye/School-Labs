{
 "cells": [
  {
   "cell_type": "markdown",
   "id": "f96fd408",
   "metadata": {},
   "source": [
    "# Introduction to Python\n",
    "\n",
    "We will make use of jupyter notebooks to code using the Python language. Notebooks allow us to combine text and code to our script. "
   ]
  },
  {
   "cell_type": "markdown",
   "id": "e8fa8fd0",
   "metadata": {},
   "source": [
    "## Basic Airthmetic"
   ]
  },
  {
   "cell_type": "code",
   "execution_count": null,
   "id": "5e1076f2",
   "metadata": {},
   "outputs": [],
   "source": [
    "2 + 5"
   ]
  },
  {
   "cell_type": "code",
   "execution_count": null,
   "id": "77f1a79b",
   "metadata": {},
   "outputs": [],
   "source": [
    "8 - 3"
   ]
  },
  {
   "cell_type": "code",
   "execution_count": null,
   "id": "03a8b40b",
   "metadata": {},
   "outputs": [],
   "source": [
    "3*4"
   ]
  },
  {
   "cell_type": "code",
   "execution_count": null,
   "id": "9af7b312",
   "metadata": {},
   "outputs": [],
   "source": [
    "16/2"
   ]
  },
  {
   "cell_type": "code",
   "execution_count": null,
   "id": "23fe4148",
   "metadata": {},
   "outputs": [],
   "source": [
    "3**2"
   ]
  },
  {
   "cell_type": "code",
   "execution_count": null,
   "id": "fd8ee99c",
   "metadata": {},
   "outputs": [],
   "source": [
    "print(3)"
   ]
  },
  {
   "cell_type": "code",
   "execution_count": null,
   "id": "ed6b4aa6",
   "metadata": {},
   "outputs": [],
   "source": [
    "print(\"Hello World\")"
   ]
  },
  {
   "cell_type": "markdown",
   "id": "210bba33",
   "metadata": {},
   "source": [
    "## Logical Comparison"
   ]
  },
  {
   "cell_type": "code",
   "execution_count": null,
   "id": "3e75c764",
   "metadata": {},
   "outputs": [],
   "source": [
    "2 > 3"
   ]
  },
  {
   "cell_type": "code",
   "execution_count": 1,
   "id": "12420329",
   "metadata": {},
   "outputs": [
    {
     "data": {
      "text/plain": [
       "False"
      ]
     },
     "execution_count": 1,
     "metadata": {},
     "output_type": "execute_result"
    }
   ],
   "source": [
    "6 <= 5"
   ]
  },
  {
   "cell_type": "code",
   "execution_count": 2,
   "id": "6cf4cd33",
   "metadata": {},
   "outputs": [
    {
     "data": {
      "text/plain": [
       "False"
      ]
     },
     "execution_count": 2,
     "metadata": {},
     "output_type": "execute_result"
    }
   ],
   "source": [
    "4 == 5"
   ]
  },
  {
   "cell_type": "code",
   "execution_count": 3,
   "id": "6735a14e",
   "metadata": {},
   "outputs": [
    {
     "data": {
      "text/plain": [
       "True"
      ]
     },
     "execution_count": 3,
     "metadata": {},
     "output_type": "execute_result"
    }
   ],
   "source": [
    "4 != 5"
   ]
  },
  {
   "cell_type": "code",
   "execution_count": 4,
   "id": "2383c65f",
   "metadata": {},
   "outputs": [
    {
     "data": {
      "text/plain": [
       "False"
      ]
     },
     "execution_count": 4,
     "metadata": {},
     "output_type": "execute_result"
    }
   ],
   "source": [
    "(3 != 2) and (2 > 3)"
   ]
  },
  {
   "cell_type": "code",
   "execution_count": 5,
   "id": "b00c105c",
   "metadata": {},
   "outputs": [
    {
     "data": {
      "text/plain": [
       "True"
      ]
     },
     "execution_count": 5,
     "metadata": {},
     "output_type": "execute_result"
    }
   ],
   "source": [
    "(3 != 2) or (2 > 3)"
   ]
  },
  {
   "cell_type": "markdown",
   "id": "08f36a7d",
   "metadata": {},
   "source": [
    "## Variable assignment"
   ]
  },
  {
   "cell_type": "code",
   "execution_count": null,
   "id": "686de174",
   "metadata": {},
   "outputs": [],
   "source": [
    "x = 4\n",
    "y = 3\n",
    "x + y"
   ]
  },
  {
   "cell_type": "code",
   "execution_count": null,
   "id": "27d08ada",
   "metadata": {},
   "outputs": [],
   "source": [
    "z = x + y\n",
    "print(z)\n"
   ]
  },
  {
   "cell_type": "markdown",
   "id": "58ada2bf",
   "metadata": {},
   "source": [
    "## Comments in Python"
   ]
  },
  {
   "cell_type": "code",
   "execution_count": null,
   "id": "a28d1010",
   "metadata": {},
   "outputs": [],
   "source": [
    "# A hash sign comments out a line of code\n",
    "print(\"This is code\")\n",
    "\n",
    "# vs\n",
    "\n",
    "# print(\"This is a comment\")"
   ]
  },
  {
   "cell_type": "code",
   "execution_count": null,
   "id": "bdafba5e",
   "metadata": {},
   "outputs": [],
   "source": [
    "# If a code line is commented out the script will not recognise the variables\n",
    "\n",
    "# test = 3\n",
    "test + 4"
   ]
  },
  {
   "cell_type": "markdown",
   "id": "ad3b6790",
   "metadata": {},
   "source": [
    "# Packages in Python"
   ]
  },
  {
   "cell_type": "markdown",
   "id": "16c012a8",
   "metadata": {},
   "source": [
    "There are various packages compatible with Pyhton. Throughout the course you will be exposed to a wide range of packages to help you implement the topics covered. For now we will consider the `numpy` package for scientific computing in Python.\n",
    "\n",
    "### `numpy` Package\n",
    "\n",
    "Package page: https://numpy.org/\n",
    "\n",
    "To install packages we can use the `pip` command in our notebook or we can make use of the conda prompt. \n",
    "\n",
    "We only need to install packages onces on our system.  \n",
    "\n",
    "To use a package we instruct our environment to find the package using the `import` command."
   ]
  },
  {
   "cell_type": "code",
   "execution_count": null,
   "id": "6a43f4d1",
   "metadata": {},
   "outputs": [],
   "source": [
    "pip install numpy"
   ]
  },
  {
   "cell_type": "code",
   "execution_count": null,
   "id": "62a67e8e",
   "metadata": {},
   "outputs": [],
   "source": [
    "import numpy as np"
   ]
  },
  {
   "cell_type": "markdown",
   "id": "ec89dd38",
   "metadata": {},
   "source": [
    "## Data types"
   ]
  },
  {
   "cell_type": "markdown",
   "id": "a6b54ce6",
   "metadata": {},
   "source": [
    "The data types that we will focus on are:\n",
    "- Numeric\n",
    "- Character\n",
    "- Boolean\n",
    "- Lists and Tuples\n",
    "- Dictionaries\n",
    "- Arrays, Vectors and Matrices"
   ]
  },
  {
   "cell_type": "markdown",
   "id": "6a805a07",
   "metadata": {},
   "source": [
    "### Numeric, characters and Boolean"
   ]
  },
  {
   "cell_type": "code",
   "execution_count": null,
   "id": "6e6601ec",
   "metadata": {},
   "outputs": [],
   "source": [
    "text = \"These are characters\""
   ]
  },
  {
   "cell_type": "code",
   "execution_count": null,
   "id": "35561199",
   "metadata": {},
   "outputs": [],
   "source": [
    "print(text)"
   ]
  },
  {
   "cell_type": "code",
   "execution_count": null,
   "id": "b2b64261",
   "metadata": {},
   "outputs": [],
   "source": [
    "type(text)"
   ]
  },
  {
   "cell_type": "code",
   "execution_count": null,
   "id": "9f8b4a6d",
   "metadata": {},
   "outputs": [],
   "source": [
    "number = 33"
   ]
  },
  {
   "cell_type": "code",
   "execution_count": null,
   "id": "6cad588d",
   "metadata": {},
   "outputs": [],
   "source": [
    "print(number)\n",
    "type(number)"
   ]
  },
  {
   "cell_type": "code",
   "execution_count": null,
   "id": "b4baab8e",
   "metadata": {},
   "outputs": [],
   "source": [
    "pi = 3.1415\n",
    "\n",
    "print(pi)\n",
    "type(pi)"
   ]
  },
  {
   "cell_type": "code",
   "execution_count": null,
   "id": "e6680884",
   "metadata": {},
   "outputs": [],
   "source": [
    "logical = 3 > 4\n",
    "print(logical)\n",
    "type(logical)"
   ]
  },
  {
   "cell_type": "code",
   "execution_count": null,
   "id": "a898c823",
   "metadata": {},
   "outputs": [],
   "source": [
    "logT = True\n",
    "print(logT)\n",
    "type(logT)"
   ]
  },
  {
   "cell_type": "markdown",
   "id": "40f5c482",
   "metadata": {},
   "source": [
    "### Lists and tuples\n",
    "\n",
    "Lists are a common data structure to hold an ordered sequence of elements. Each element can be accessed by an index. **Note that Python indexes start with 0 instead of 1.**\n",
    "\n",
    "A tuple is similar to a list in that it’s an ordered sequence of elements. However, tuples can not be changed once created\n",
    "\n",
    "Syntax summary:\n",
    "\n",
    "`[]` - list\n",
    "\n",
    "`{}` - dictionary\n",
    "\n",
    "`()` - tuple"
   ]
  },
  {
   "cell_type": "code",
   "execution_count": null,
   "id": "9a9b9d7a",
   "metadata": {},
   "outputs": [],
   "source": [
    "# List \n",
    "\n",
    "ls = [1,2,3,4,6]\n",
    "print(ls)"
   ]
  },
  {
   "cell_type": "code",
   "execution_count": null,
   "id": "6ad21136",
   "metadata": {},
   "outputs": [],
   "source": [
    "ls[2]"
   ]
  },
  {
   "cell_type": "code",
   "execution_count": null,
   "id": "62882c02",
   "metadata": {},
   "outputs": [],
   "source": [
    "type(ls)"
   ]
  },
  {
   "cell_type": "code",
   "execution_count": null,
   "id": "988089b7",
   "metadata": {},
   "outputs": [],
   "source": [
    "## Add values to a list\n",
    "\n",
    "ls.extend([10, 2, 3])\n",
    "print(ls)"
   ]
  },
  {
   "cell_type": "code",
   "execution_count": null,
   "id": "d32d47fc",
   "metadata": {},
   "outputs": [],
   "source": [
    "# A tuple\n",
    "\n",
    "tp1 = (1,2,3)\n",
    "\n",
    "print(tp1)\n",
    "type(tp1)"
   ]
  },
  {
   "cell_type": "code",
   "execution_count": null,
   "id": "21d7c65f",
   "metadata": {},
   "outputs": [],
   "source": [
    "tp2 = (\"red\", \"yellow\", \"green\")\n",
    "\n",
    "print(tp2)\n",
    "type(tp2)"
   ]
  },
  {
   "cell_type": "code",
   "execution_count": null,
   "id": "82e3cbc8",
   "metadata": {},
   "outputs": [],
   "source": [
    "tp2[2]"
   ]
  },
  {
   "cell_type": "markdown",
   "id": "f15a2840",
   "metadata": {},
   "source": [
    "### Dictionaries\n",
    "\n",
    "A dictionary is a container that holds pairs of objects - keys and values."
   ]
  },
  {
   "cell_type": "code",
   "execution_count": null,
   "id": "76655268",
   "metadata": {},
   "outputs": [],
   "source": [
    "country_capitals = {\n",
    "  \"United States\": \"Washington D.C.\", \n",
    "  \"Italy\": \"Rome\", \n",
    "  \"England\": \"London\"\n",
    "}"
   ]
  },
  {
   "cell_type": "code",
   "execution_count": null,
   "id": "7346636e",
   "metadata": {},
   "outputs": [],
   "source": [
    "print(country_capitals)"
   ]
  },
  {
   "cell_type": "code",
   "execution_count": null,
   "id": "791039ba",
   "metadata": {},
   "outputs": [],
   "source": [
    "print(country_capitals[\"United States\"])"
   ]
  },
  {
   "cell_type": "code",
   "execution_count": null,
   "id": "aade8e92",
   "metadata": {},
   "outputs": [],
   "source": [
    "print(country_capitals[\"England\"])"
   ]
  },
  {
   "cell_type": "code",
   "execution_count": null,
   "id": "a9f8dd5c",
   "metadata": {},
   "outputs": [],
   "source": [
    "# add an item with \"Germany\" as key and \"Berlin\" as its value\n",
    "country_capitals[\"Germany\"] = \"Berlin\"\n",
    "\n",
    "print(country_capitals)"
   ]
  },
  {
   "cell_type": "markdown",
   "id": "41fdd5b2",
   "metadata": {},
   "source": [
    "### Arrays, Vectors and Matrices\n",
    "\n",
    "To create arrays and vectors we make use of the `Numpy` package."
   ]
  },
  {
   "cell_type": "markdown",
   "id": "40d40838",
   "metadata": {},
   "source": [
    "Syntax : np.array(list)\n",
    "\n",
    "Argument : It take 1-D list it can be 1 row and n columns or n rows and 1 column\n",
    "\n",
    "Return : It returns vector which is numpy.ndarray"
   ]
  },
  {
   "cell_type": "code",
   "execution_count": null,
   "id": "c998b87a",
   "metadata": {},
   "outputs": [],
   "source": [
    "# importing numpy\n",
    "import numpy as np\n",
    "\n",
    "# creating a 1-D list (Horizontal)\n",
    "list1 = [5, 6, 9]\n",
    "\n",
    "# creating a 1-D list (Vertical)\n",
    "list2 = [[1], \n",
    "         [2], \n",
    "         [3]]\n",
    "\n",
    "# creating a vector_row\n",
    "# row vector\n",
    "vector1 = np.array(list1)\n",
    "\n",
    "# creating a vector_col\n",
    "# column vector\n",
    "vector2 = np.array(list2)\n",
    "\n",
    "\n",
    "# showing horizontal vector\n",
    "print(\"Horizontal Vector/Row Vector\")\n",
    "print(vector1)\n",
    "\n",
    "print(\"----------------\")\n",
    "\n",
    "# showing vertical vector\n",
    "print(\"Vertical Vector/Column Vector\")\n",
    "print(vector2)\n"
   ]
  },
  {
   "cell_type": "code",
   "execution_count": null,
   "id": "c028b549",
   "metadata": {},
   "outputs": [],
   "source": [
    "## Add vectors \n",
    "\n",
    "list3 = [1, \n",
    "         2, \n",
    "         3]\n",
    "\n",
    "vector2 = np.array(list3)\n",
    "\n",
    "addition = vector1 + vector2\n",
    "print(vector1)\n",
    "print(vector2)\n",
    "print(addition)"
   ]
  },
  {
   "cell_type": "code",
   "execution_count": null,
   "id": "35546556",
   "metadata": {},
   "outputs": [],
   "source": [
    "## Subtract vectors \n",
    "\n",
    "minus = vector1 - vector2\n",
    "print(vector1)\n",
    "print(vector2)\n",
    "print(minus)"
   ]
  },
  {
   "cell_type": "code",
   "execution_count": null,
   "id": "cdacf82c",
   "metadata": {},
   "outputs": [],
   "source": [
    "## Multiply vectors \n",
    "\n",
    "mul = vector1*vector2\n",
    "print(vector1)\n",
    "print(vector2)\n",
    "print(mul)"
   ]
  },
  {
   "cell_type": "code",
   "execution_count": null,
   "id": "67ae698f",
   "metadata": {},
   "outputs": [],
   "source": [
    "## Divide vectors \n",
    "\n",
    "div = vector1/vector2\n",
    "print(vector1)\n",
    "print(vector2)\n",
    "print(div)"
   ]
  },
  {
   "cell_type": "code",
   "execution_count": null,
   "id": "857b5688",
   "metadata": {},
   "outputs": [],
   "source": [
    "## Dot product of vectors \n",
    "\n",
    "dot_prod = np.dot(vector1, vector2)\n",
    "print(vector1)\n",
    "print(vector2)\n",
    "print(dot_prod)"
   ]
  },
  {
   "cell_type": "code",
   "execution_count": null,
   "id": "7648ae33",
   "metadata": {},
   "outputs": [],
   "source": [
    "# Vector-Scalar Multiplication \n",
    "\n",
    "scalar = 2\n",
    "scalar_mul = vector1*scalar\n",
    "print(scalar)\n",
    "print(vector1)\n",
    "print(scalar_mul)"
   ]
  },
  {
   "cell_type": "code",
   "execution_count": null,
   "id": "2335ebf6",
   "metadata": {},
   "outputs": [],
   "source": [
    "# Matrices \n",
    "\n",
    "A = [[1, 2],\n",
    "     [2, 3]]\n",
    "\n",
    "B = [[4, 5],\n",
    "     [6, 7]]\n",
    "\n",
    "print(A)\n",
    "print(B)"
   ]
  },
  {
   "cell_type": "code",
   "execution_count": null,
   "id": "a7b02a53",
   "metadata": {},
   "outputs": [],
   "source": [
    "C = A +B\n",
    "print(C)"
   ]
  },
  {
   "cell_type": "code",
   "execution_count": null,
   "id": "64e2d2cc",
   "metadata": {},
   "outputs": [],
   "source": [
    "print(A[1])"
   ]
  },
  {
   "cell_type": "code",
   "execution_count": null,
   "id": "97486c01",
   "metadata": {},
   "outputs": [],
   "source": [
    "print(A[1][0])"
   ]
  },
  {
   "cell_type": "code",
   "execution_count": null,
   "id": "ad3e4fc2",
   "metadata": {},
   "outputs": [],
   "source": [
    "array = np.random.randint(10, size=(3, 3))\n",
    "print(array)"
   ]
  },
  {
   "cell_type": "code",
   "execution_count": null,
   "id": "efa4d9f3",
   "metadata": {},
   "outputs": [],
   "source": [
    "# initializing matrices\n",
    "x = np.array([[1, 2], [4, 5]])\n",
    "y = np.array([[7, 8], [9, 10]])\n",
    "\n",
    "print(x)\n",
    "print(y)"
   ]
  },
  {
   "cell_type": "code",
   "execution_count": null,
   "id": "4b5b9adf",
   "metadata": {},
   "outputs": [],
   "source": [
    "# using add() to add matrices\n",
    "x_plus_y = np.add(x,y)\n",
    "print(x_plus_y)"
   ]
  },
  {
   "cell_type": "code",
   "execution_count": null,
   "id": "d0fe2107",
   "metadata": {},
   "outputs": [],
   "source": [
    "# using subtract() to subtract matrices\n",
    "x_minus_y = np.subtract(x,y)\n",
    "print(x_minus_y)"
   ]
  },
  {
   "cell_type": "code",
   "execution_count": null,
   "id": "2bc82fbe",
   "metadata": {},
   "outputs": [],
   "source": [
    "# using multiply() to perform element wise multiplication matrices\n",
    "x_mul_y = np.multiply(x,y)\n",
    "print(x_mul_y)"
   ]
  },
  {
   "cell_type": "code",
   "execution_count": null,
   "id": "764003d2",
   "metadata": {},
   "outputs": [],
   "source": [
    "# using divide() to perform element wise division matrices\n",
    "x_div_y = np.divide(x,y)\n",
    "print(x_div_y)"
   ]
  },
  {
   "cell_type": "markdown",
   "id": "8d9873e4",
   "metadata": {},
   "source": [
    "## Algorithms"
   ]
  },
  {
   "cell_type": "markdown",
   "id": "fc480b36",
   "metadata": {},
   "source": [
    "To code algorithms you need to define functions, be able to implement loops and conditional statements"
   ]
  },
  {
   "cell_type": "markdown",
   "id": "d62f355b",
   "metadata": {},
   "source": [
    "### Functions\n",
    "\n",
    "Defining a section of code as a function in Python is done using the `def` keyword. For example a function that takes two arguments and returns their sum can be defined as:"
   ]
  },
  {
   "cell_type": "code",
   "execution_count": null,
   "id": "106e219b",
   "metadata": {},
   "outputs": [],
   "source": [
    "def add_function(a, b):\n",
    "    result = a + b\n",
    "    return result\n",
    "\n",
    "z = add_function(20, 22)\n",
    "print(z)"
   ]
  },
  {
   "cell_type": "markdown",
   "id": "1aceb1d2",
   "metadata": {},
   "source": [
    "### Lambda expressions"
   ]
  },
  {
   "cell_type": "code",
   "execution_count": null,
   "id": "8a577fe0",
   "metadata": {},
   "outputs": [],
   "source": [
    "def times2(var):\n",
    "    return var*2"
   ]
  },
  {
   "cell_type": "code",
   "execution_count": null,
   "id": "2f099443",
   "metadata": {},
   "outputs": [],
   "source": [
    "times2(3)"
   ]
  },
  {
   "cell_type": "code",
   "execution_count": null,
   "id": "0ae43ea6",
   "metadata": {},
   "outputs": [],
   "source": [
    "lambda var: var*2"
   ]
  },
  {
   "cell_type": "code",
   "execution_count": null,
   "id": "0098d59c",
   "metadata": {},
   "outputs": [],
   "source": []
  },
  {
   "cell_type": "markdown",
   "id": "9b6d489c",
   "metadata": {},
   "source": [
    "### Loops\n",
    "\n",
    "There are two types of loops in Python, for and while.\n",
    "\n",
    "The `for` loop iterates over a given sequence. The `while` loop repeats as long as a certain boolean condition is met.\n",
    "\n",
    "`break` is used to exit a `for` loop or a `while` loop, whereas `continue` is used to skip the current block, and `return` to the `for` or `while` statement."
   ]
  },
  {
   "cell_type": "code",
   "execution_count": null,
   "id": "1c82f647",
   "metadata": {},
   "outputs": [],
   "source": [
    "# Start with for loops\n",
    "primes = [2, 3, 5, 7]\n",
    "\n",
    "for p in primes:\n",
    "    print(p)"
   ]
  },
  {
   "cell_type": "code",
   "execution_count": null,
   "id": "f508484f",
   "metadata": {},
   "outputs": [],
   "source": [
    "n = 4\n",
    "for i in range(0, n):\n",
    "    q = i + 3\n",
    "    print([i,q])"
   ]
  },
  {
   "cell_type": "code",
   "execution_count": null,
   "id": "1564d563",
   "metadata": {},
   "outputs": [],
   "source": [
    "# While loops\n",
    "\n",
    "count = 5\n",
    "while count < 10:\n",
    "    print(count)\n",
    "#     count = count + 1\n",
    "    count += 1  # This is the same as count = count + 1\n",
    "    "
   ]
  },
  {
   "cell_type": "code",
   "execution_count": null,
   "id": "39957a93",
   "metadata": {},
   "outputs": [],
   "source": [
    "count = 0\n",
    "while True:\n",
    "    print(count)\n",
    "    count += 1\n",
    "    if count >= 5:\n",
    "        break"
   ]
  },
  {
   "cell_type": "code",
   "execution_count": null,
   "id": "6c8a64ad",
   "metadata": {},
   "outputs": [],
   "source": [
    "count=0\n",
    "while(count<5):\n",
    "    print(count)\n",
    "    count +=1\n",
    "else:\n",
    "    print(\"count value reached %d\" %(count))"
   ]
  },
  {
   "cell_type": "code",
   "execution_count": null,
   "id": "04bd7aa7",
   "metadata": {},
   "outputs": [],
   "source": [
    "# Prints all letters except 't' and 's'\n",
    "for letter in 'statsisfun':\n",
    "    if letter == 't' or letter == 's':\n",
    "        continue\n",
    "    print('Current Letter :', letter)"
   ]
  },
  {
   "cell_type": "code",
   "execution_count": null,
   "id": "4fd5f686",
   "metadata": {},
   "outputs": [],
   "source": [
    "for letter in 'statsisfun':\n",
    " \n",
    "    # break the loop as soon it sees 'i'\n",
    "    # or 'a'\n",
    "    if letter == 'a' or letter == 'i':\n",
    "        break\n",
    "        \n",
    "    print('Current Letter :', letter)\n",
    "    \n",
    "print('Break Letter :', letter)"
   ]
  },
  {
   "cell_type": "markdown",
   "id": "ef0f5616",
   "metadata": {},
   "source": [
    "### Conditional Statements\n",
    "\n",
    "There are 3 forms of conditional statements in Python\n",
    "- `if` statements : evalues a condition\n",
    "\n",
    "- `if...else` statements : includes a single clause specifying what happens if the condition is not met.\n",
    "\n",
    "- `if...elif...else` statements : includes multiple scenarios with different conditions and an optional `else` statement."
   ]
  },
  {
   "cell_type": "code",
   "execution_count": null,
   "id": "672f643c",
   "metadata": {},
   "outputs": [],
   "source": [
    "# If statement\n",
    "\n",
    "number = 10\n",
    "\n",
    "# check if number is greater than 0\n",
    "if number > 20:\n",
    "    print('Number is positive.')\n"
   ]
  },
  {
   "cell_type": "code",
   "execution_count": null,
   "id": "64808803",
   "metadata": {},
   "outputs": [],
   "source": [
    "f =6\n",
    "r = 1\n",
    "\n",
    "if f < 4:\n",
    "    w = r*f\n",
    "    print(w)\n",
    "    \n",
    "\n",
    "q = f + 4\n",
    "a = q*w\n",
    "print(a)"
   ]
  },
  {
   "cell_type": "code",
   "execution_count": null,
   "id": "ab7c6867",
   "metadata": {},
   "outputs": [],
   "source": [
    "# If else statement\n",
    "\n",
    "number = -13\n",
    "\n",
    "if number > 0:\n",
    "    print('Positive number')\n",
    "\n",
    "else:\n",
    "    print('Negative number')"
   ]
  },
  {
   "cell_type": "code",
   "execution_count": null,
   "id": "e8de2e57",
   "metadata": {},
   "outputs": [],
   "source": [
    "string = \"hello, world\"\n",
    "char = \"w\"\n",
    "\n",
    "if char in string:\n",
    "    print(\"The string contains the character\", char)\n",
    "else:\n",
    "    print(\"The string does not contain the character\", char)"
   ]
  },
  {
   "cell_type": "code",
   "execution_count": null,
   "id": "6ed00fe9",
   "metadata": {},
   "outputs": [],
   "source": [
    "# If elif else statement\n",
    "\n",
    "number = 0\n",
    "\n",
    "if number > 0:\n",
    "    print(\"Positive number\")\n",
    "\n",
    "elif number == 0:\n",
    "    print('Zero')\n",
    "else:\n",
    "    print('Negative number')"
   ]
  },
  {
   "cell_type": "code",
   "execution_count": null,
   "id": "fbbbc310",
   "metadata": {},
   "outputs": [],
   "source": [
    "score = 65\n",
    "\n",
    "if score >= 90:\n",
    "    grade = \"A\"\n",
    "elif score >= 80:\n",
    "    grade = \"B\"\n",
    "elif score >= 70:\n",
    "    grade = \"C\"\n",
    "elif score >= 60:\n",
    "    grade = \"D\"\n",
    "else:\n",
    "    grade = \"F\"\n",
    "\n",
    "print(\"Your grade is:\", grade, \"well done! Your score is:\", score)"
   ]
  },
  {
   "cell_type": "code",
   "execution_count": null,
   "id": "e383d9e7",
   "metadata": {},
   "outputs": [],
   "source": [
    "help(type)"
   ]
  },
  {
   "cell_type": "markdown",
   "id": "99e1636b",
   "metadata": {},
   "source": [
    "### Lambda expressions"
   ]
  },
  {
   "cell_type": "code",
   "execution_count": null,
   "id": "05311fff",
   "metadata": {},
   "outputs": [],
   "source": [
    "def times2(var):\n",
    "    return var*2"
   ]
  },
  {
   "cell_type": "code",
   "execution_count": null,
   "id": "82673e9e",
   "metadata": {},
   "outputs": [],
   "source": [
    "times2(2)"
   ]
  },
  {
   "cell_type": "code",
   "execution_count": null,
   "id": "8baa5b69",
   "metadata": {},
   "outputs": [],
   "source": [
    "lambda var: var*2"
   ]
  },
  {
   "cell_type": "markdown",
   "id": "c791ff2b",
   "metadata": {},
   "source": [
    "### map and filter"
   ]
  },
  {
   "cell_type": "code",
   "execution_count": null,
   "id": "eca27b9e",
   "metadata": {},
   "outputs": [],
   "source": [
    "times2(seq)"
   ]
  },
  {
   "cell_type": "code",
   "execution_count": null,
   "id": "6561b274",
   "metadata": {},
   "outputs": [],
   "source": [
    "seq = [1,2,3,4,5]"
   ]
  },
  {
   "cell_type": "code",
   "execution_count": null,
   "id": "446b6185",
   "metadata": {},
   "outputs": [],
   "source": [
    "map(times2,seq)"
   ]
  },
  {
   "cell_type": "code",
   "execution_count": null,
   "id": "61882677",
   "metadata": {},
   "outputs": [],
   "source": [
    "list(map(times2,seq))"
   ]
  },
  {
   "cell_type": "code",
   "execution_count": null,
   "id": "7b5d28e7",
   "metadata": {},
   "outputs": [],
   "source": [
    "list(map(lambda var: var*2,seq))"
   ]
  },
  {
   "cell_type": "markdown",
   "id": "05247cbe",
   "metadata": {},
   "source": [
    "## Strings"
   ]
  },
  {
   "cell_type": "code",
   "execution_count": null,
   "id": "baf3aed4",
   "metadata": {},
   "outputs": [],
   "source": [
    "st = 'Hello my name is Sam'\n",
    "print(st)"
   ]
  },
  {
   "cell_type": "code",
   "execution_count": null,
   "id": "61a99eed",
   "metadata": {},
   "outputs": [],
   "source": [
    "st.lower()"
   ]
  },
  {
   "cell_type": "code",
   "execution_count": null,
   "id": "99760651",
   "metadata": {},
   "outputs": [],
   "source": [
    "st.upper()"
   ]
  },
  {
   "cell_type": "code",
   "execution_count": null,
   "id": "a3f947f2",
   "metadata": {},
   "outputs": [],
   "source": [
    "st.split()"
   ]
  },
  {
   "cell_type": "code",
   "execution_count": null,
   "id": "41d29bdb",
   "metadata": {},
   "outputs": [],
   "source": [
    "tweet = 'Go Sports! #Sports'"
   ]
  },
  {
   "cell_type": "code",
   "execution_count": null,
   "id": "1058508d",
   "metadata": {},
   "outputs": [],
   "source": [
    "tweet.split('#')"
   ]
  },
  {
   "cell_type": "code",
   "execution_count": null,
   "id": "31e6d404",
   "metadata": {},
   "outputs": [],
   "source": [
    "tweet.split('#')[1]"
   ]
  },
  {
   "cell_type": "markdown",
   "id": "f011844e",
   "metadata": {},
   "source": [
    "## Reshaping arrays\n",
    "\n",
    "Shape is an attribute that arrays have. Returns an array containing the same data with a new shape."
   ]
  },
  {
   "cell_type": "code",
   "execution_count": null,
   "id": "a0cca26c",
   "metadata": {},
   "outputs": [],
   "source": [
    "import numpy as np"
   ]
  },
  {
   "cell_type": "code",
   "execution_count": null,
   "id": "daaf128b",
   "metadata": {},
   "outputs": [],
   "source": [
    "arr = np.arange(25)\n",
    "arr"
   ]
  },
  {
   "cell_type": "code",
   "execution_count": null,
   "id": "4f8454bb",
   "metadata": {},
   "outputs": [],
   "source": [
    "arr.shape"
   ]
  },
  {
   "cell_type": "code",
   "execution_count": null,
   "id": "495d172f",
   "metadata": {},
   "outputs": [],
   "source": [
    "# Notice the two sets of brackets\n",
    "arr.reshape(1,25)"
   ]
  },
  {
   "cell_type": "code",
   "execution_count": null,
   "id": "b9f892f8",
   "metadata": {},
   "outputs": [],
   "source": [
    "arr.reshape(1,25).shape"
   ]
  },
  {
   "cell_type": "code",
   "execution_count": null,
   "id": "324e2868",
   "metadata": {},
   "outputs": [],
   "source": [
    "arr.reshape(25,1)"
   ]
  },
  {
   "cell_type": "code",
   "execution_count": null,
   "id": "73da948a",
   "metadata": {},
   "outputs": [],
   "source": [
    "arr.reshape(25,1).shape"
   ]
  },
  {
   "cell_type": "code",
   "execution_count": null,
   "id": "2798d510",
   "metadata": {},
   "outputs": [],
   "source": [
    "arr.reshape(5,5)"
   ]
  },
  {
   "cell_type": "code",
   "execution_count": null,
   "id": "736a931d",
   "metadata": {},
   "outputs": [],
   "source": [
    "arr.reshape(5,5).shape"
   ]
  },
  {
   "cell_type": "markdown",
   "id": "f929e657",
   "metadata": {},
   "source": [
    "## Universal Array Functions\n",
    "\n",
    "Numpy comes with many [universal array functions](http://docs.scipy.org/doc/numpy/reference/ufuncs.html), which are essentially just mathematical operations you can use to perform the operation across the array. Let's show some common ones:"
   ]
  },
  {
   "cell_type": "code",
   "execution_count": null,
   "id": "125c58b4",
   "metadata": {},
   "outputs": [],
   "source": [
    "arr = np.arange(0,10)\n",
    "arr"
   ]
  },
  {
   "cell_type": "code",
   "execution_count": null,
   "id": "b7ec3187",
   "metadata": {},
   "outputs": [],
   "source": [
    "#Taking Square Roots\n",
    "np.sqrt(arr)"
   ]
  },
  {
   "cell_type": "code",
   "execution_count": null,
   "id": "64949eb7",
   "metadata": {},
   "outputs": [],
   "source": [
    "#Calcualting exponential (e^)\n",
    "np.exp(arr)"
   ]
  },
  {
   "cell_type": "code",
   "execution_count": null,
   "id": "662ddccf",
   "metadata": {},
   "outputs": [],
   "source": [
    "np.max(arr) #same as arr.max()"
   ]
  },
  {
   "cell_type": "code",
   "execution_count": null,
   "id": "68ae5396",
   "metadata": {},
   "outputs": [],
   "source": [
    "np.sin(arr)"
   ]
  },
  {
   "cell_type": "code",
   "execution_count": null,
   "id": "7df62927",
   "metadata": {},
   "outputs": [],
   "source": [
    "np.log(arr)"
   ]
  },
  {
   "cell_type": "markdown",
   "id": "c880c1f1",
   "metadata": {},
   "source": [
    "#### Create an array of 10 zeros "
   ]
  },
  {
   "cell_type": "code",
   "execution_count": null,
   "id": "5168ad04",
   "metadata": {},
   "outputs": [],
   "source": [
    "np.zeros(10)"
   ]
  },
  {
   "cell_type": "markdown",
   "id": "a5ea9e60",
   "metadata": {},
   "source": [
    "#### Create an array of 10 ones"
   ]
  },
  {
   "cell_type": "code",
   "execution_count": null,
   "id": "6aadf83b",
   "metadata": {},
   "outputs": [],
   "source": [
    "np.ones(10)"
   ]
  },
  {
   "cell_type": "markdown",
   "id": "2b9c0e46",
   "metadata": {},
   "source": [
    "#### Create an array of 10 fives"
   ]
  },
  {
   "cell_type": "code",
   "execution_count": null,
   "id": "6f968903",
   "metadata": {},
   "outputs": [],
   "source": [
    "np.ones(10) * 5"
   ]
  },
  {
   "cell_type": "markdown",
   "id": "11914708",
   "metadata": {},
   "source": [
    "#### Create an array of the integers from 10 to 50"
   ]
  },
  {
   "cell_type": "code",
   "execution_count": null,
   "id": "58d4e84c",
   "metadata": {},
   "outputs": [],
   "source": [
    "np.arange(10,51)"
   ]
  },
  {
   "cell_type": "markdown",
   "id": "63bc1277",
   "metadata": {},
   "source": [
    "#### Create an array of all the even integers from 10 to 50"
   ]
  },
  {
   "cell_type": "code",
   "execution_count": null,
   "id": "68ae5db9",
   "metadata": {},
   "outputs": [],
   "source": [
    "np.arange(10,51,2)"
   ]
  },
  {
   "cell_type": "markdown",
   "id": "f524c74c",
   "metadata": {},
   "source": [
    "### Create a 3x3 identity matrix"
   ]
  },
  {
   "cell_type": "code",
   "execution_count": null,
   "id": "e814ce53",
   "metadata": {},
   "outputs": [],
   "source": [
    "np.eye(3)"
   ]
  },
  {
   "cell_type": "markdown",
   "id": "5405763b",
   "metadata": {},
   "source": [
    "### Matrix descriptives"
   ]
  },
  {
   "cell_type": "code",
   "execution_count": null,
   "id": "390af6be",
   "metadata": {},
   "outputs": [],
   "source": [
    "mat = np.arange(1,26).reshape(5,5)\n",
    "mat"
   ]
  },
  {
   "cell_type": "markdown",
   "id": "4a61e0d6",
   "metadata": {},
   "source": [
    "#### Get the sum of all the values in mat"
   ]
  },
  {
   "cell_type": "code",
   "execution_count": null,
   "id": "92aadb53",
   "metadata": {},
   "outputs": [],
   "source": [
    "mat.sum()"
   ]
  },
  {
   "cell_type": "markdown",
   "id": "5d635a14",
   "metadata": {},
   "source": [
    "#### Get the standard deviation of the values in mat"
   ]
  },
  {
   "cell_type": "code",
   "execution_count": null,
   "id": "7149d0bb",
   "metadata": {},
   "outputs": [],
   "source": [
    "mat.std()"
   ]
  },
  {
   "cell_type": "markdown",
   "id": "f7d8c1dc",
   "metadata": {},
   "source": [
    "#### Get the sum of all the columns in mat"
   ]
  },
  {
   "cell_type": "code",
   "execution_count": null,
   "id": "e87bb507",
   "metadata": {},
   "outputs": [],
   "source": [
    "mat.sum(axis=0)"
   ]
  },
  {
   "cell_type": "code",
   "execution_count": null,
   "id": "094f99a7",
   "metadata": {},
   "outputs": [],
   "source": [
    "mat.sum(axis=1)"
   ]
  },
  {
   "cell_type": "markdown",
   "id": "960959ca",
   "metadata": {},
   "source": [
    "## Fun stuff"
   ]
  },
  {
   "cell_type": "code",
   "execution_count": null,
   "id": "67cdad28",
   "metadata": {},
   "outputs": [],
   "source": [
    "num = 12\n",
    "name = 'Sam'\n",
    "\n",
    "print('My number is: {one}, and my name is: {two}'.format(one=num,two=name))"
   ]
  },
  {
   "cell_type": "code",
   "execution_count": null,
   "id": "b4240ee8",
   "metadata": {},
   "outputs": [],
   "source": [
    "print('My number is: {}, and my name is: {}'.format(num,name))"
   ]
  },
  {
   "cell_type": "code",
   "execution_count": null,
   "id": "d770ff57",
   "metadata": {},
   "outputs": [],
   "source": [
    "'x' in [1,2,3]"
   ]
  },
  {
   "cell_type": "code",
   "execution_count": null,
   "id": "9ee30c8f",
   "metadata": {},
   "outputs": [],
   "source": [
    "'x' in ['x','y','z']"
   ]
  },
  {
   "cell_type": "code",
   "execution_count": null,
   "id": "4bd5b106",
   "metadata": {},
   "outputs": [],
   "source": []
  },
  {
   "cell_type": "code",
   "execution_count": null,
   "id": "62700972",
   "metadata": {},
   "outputs": [],
   "source": []
  }
 ],
 "metadata": {
  "kernelspec": {
   "display_name": "Python 3 (ipykernel)",
   "language": "python",
   "name": "python3"
  },
  "language_info": {
   "codemirror_mode": {
    "name": "ipython",
    "version": 3
   },
   "file_extension": ".py",
   "mimetype": "text/x-python",
   "name": "python",
   "nbconvert_exporter": "python",
   "pygments_lexer": "ipython3",
   "version": "3.11.2"
  }
 },
 "nbformat": 4,
 "nbformat_minor": 5
}
